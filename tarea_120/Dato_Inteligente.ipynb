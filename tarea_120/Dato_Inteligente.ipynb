{
 "cells": [
  {
   "cell_type": "code",
   "execution_count": 1,
   "metadata": {
    "id": "CSciM9y_iSbm"
   },
   "outputs": [],
   "source": [
    "import pandas as pd\n",
    "import numpy as np"
   ]
  },
  {
   "cell_type": "code",
   "execution_count": 2,
   "metadata": {
    "id": "rMjTJx8qiVh5"
   },
   "outputs": [],
   "source": [
    "path = 'poblacion_global_2020.csv'"
   ]
  },
  {
   "cell_type": "markdown",
   "metadata": {
    "id": "4eh5I2Hl47dd"
   },
   "source": [
    "# Ejercicio\n",
    "\n",
    "Examina detenidamente el siguiente dataset y responde las siguientes preguntas:\n",
    "\n",
    "* ¿Porqué cumple con las condiciones de Tidy Data? Por que cada fila de la tabla es una observación y cada columna es una característica de dicha información.\n",
    "* ¿Cuál es el data point principal y cual es la meta data? El data point principal es la población que tiene cada pais (por ejemplo China en el año 2020 tenía 1440297825 habitantes). El meta data son las demás características acerca del pais: densidad, territorio, tasa de migración, tasa de fertilidad, edad promedio y % de problación urbana.\n",
    "* Si quisieramos saber más sobre los niveles educativos globales ¿Qué otras características necesitariamos para este data set? Por ejemplo % tasa de escolarización, % tasa de personas con estudios secundarios - universitarios...\n",
    "* ¿Qué tipo de análisis harías con este data set? Podría analizar la evolución del número de habitantes de cada pais: considerando la tasa de migración, la tasa de fertilidad, la edad promedio y la población de cada pais. "
   ]
  },
  {
   "cell_type": "code",
   "execution_count": 3,
   "metadata": {
    "colab": {
     "base_uri": "https://localhost:8080/",
     "height": 206
    },
    "id": "zIVDU1LhlGlf",
    "outputId": "d5d8dc73-d7c1-436a-9ac6-8550cbbedb6f"
   },
   "outputs": [
    {
     "data": {
      "text/html": [
       "<div>\n",
       "<style scoped>\n",
       "    .dataframe tbody tr th:only-of-type {\n",
       "        vertical-align: middle;\n",
       "    }\n",
       "\n",
       "    .dataframe tbody tr th {\n",
       "        vertical-align: top;\n",
       "    }\n",
       "\n",
       "    .dataframe thead th {\n",
       "        text-align: right;\n",
       "    }\n",
       "</style>\n",
       "<table border=\"1\" class=\"dataframe\">\n",
       "  <thead>\n",
       "    <tr style=\"text-align: right;\">\n",
       "      <th></th>\n",
       "      <th>Pais</th>\n",
       "      <th>Poblacion (2020)</th>\n",
       "      <th>Densidad</th>\n",
       "      <th>Territorio (Km²)</th>\n",
       "      <th>Tasa Migracion</th>\n",
       "      <th>Tasa Fertilidad</th>\n",
       "      <th>Edad Promedio</th>\n",
       "      <th>% Poblacion Urbaba</th>\n",
       "    </tr>\n",
       "  </thead>\n",
       "  <tbody>\n",
       "    <tr>\n",
       "      <th>0</th>\n",
       "      <td>China</td>\n",
       "      <td>1440297825</td>\n",
       "      <td>153</td>\n",
       "      <td>9388211</td>\n",
       "      <td>-348399.0</td>\n",
       "      <td>1.7</td>\n",
       "      <td>38</td>\n",
       "      <td>61 %</td>\n",
       "    </tr>\n",
       "    <tr>\n",
       "      <th>1</th>\n",
       "      <td>India</td>\n",
       "      <td>1382345085</td>\n",
       "      <td>464</td>\n",
       "      <td>2973190</td>\n",
       "      <td>-532687.0</td>\n",
       "      <td>2.2</td>\n",
       "      <td>28</td>\n",
       "      <td>35 %</td>\n",
       "    </tr>\n",
       "    <tr>\n",
       "      <th>2</th>\n",
       "      <td>Estados Unidos</td>\n",
       "      <td>331341050</td>\n",
       "      <td>36</td>\n",
       "      <td>9147420</td>\n",
       "      <td>954806.0</td>\n",
       "      <td>1.8</td>\n",
       "      <td>38</td>\n",
       "      <td>83 %</td>\n",
       "    </tr>\n",
       "    <tr>\n",
       "      <th>3</th>\n",
       "      <td>Indonesia</td>\n",
       "      <td>274021604</td>\n",
       "      <td>151</td>\n",
       "      <td>1811570</td>\n",
       "      <td>-98955.0</td>\n",
       "      <td>2.3</td>\n",
       "      <td>30</td>\n",
       "      <td>56 %</td>\n",
       "    </tr>\n",
       "    <tr>\n",
       "      <th>4</th>\n",
       "      <td>Pakistán</td>\n",
       "      <td>221612785</td>\n",
       "      <td>287</td>\n",
       "      <td>770880</td>\n",
       "      <td>-233379.0</td>\n",
       "      <td>3.6</td>\n",
       "      <td>23</td>\n",
       "      <td>35 %</td>\n",
       "    </tr>\n",
       "  </tbody>\n",
       "</table>\n",
       "</div>"
      ],
      "text/plain": [
       "             Pais  Poblacion (2020)  Densidad  Territorio (Km²)  \\\n",
       "0           China        1440297825       153           9388211   \n",
       "1           India        1382345085       464           2973190   \n",
       "2  Estados Unidos         331341050        36           9147420   \n",
       "3       Indonesia         274021604       151           1811570   \n",
       "4        Pakistán         221612785       287            770880   \n",
       "\n",
       "   Tasa Migracion Tasa Fertilidad Edad Promedio % Poblacion Urbaba  \n",
       "0       -348399.0             1.7            38               61 %  \n",
       "1       -532687.0             2.2            28               35 %  \n",
       "2        954806.0             1.8            38               83 %  \n",
       "3        -98955.0             2.3            30               56 %  \n",
       "4       -233379.0             3.6            23               35 %  "
      ]
     },
     "execution_count": 3,
     "metadata": {},
     "output_type": "execute_result"
    }
   ],
   "source": [
    "df = pd.read_csv(path)\n",
    "\n",
    "df.head()"
   ]
  },
  {
   "cell_type": "markdown",
   "metadata": {
    "id": "icPpmAcd5BCY"
   },
   "source": [
    "# Ejercicios:\n",
    "\n",
    "Manipula el dataset, de manera que respondas las siguientes preguntas:\n",
    "\n",
    "1. ¿Cual es el promedio de Tasa de Fertilidad global?\n",
    "2. ¿Que país tiene la Edad Promedio más alta y cual la más baja?\n",
    "3. Agrupa los países por continente y obtén la mediana de la población urbana: no se responde porque no aparece el dato de continente en ninguna columna\n",
    "4. ¿Qué otro de cálculo de interés (usando estas variables) crees pertinente para comparar la calidad de vida a nivel global? ¿Porqué?  Podría analizar la evolución del número de habitantes de cada pais: considerando la tasa de migración, la tasa de fertilidad, la edad promedio y la población de cada pais"
   ]
  },
  {
   "cell_type": "code",
   "execution_count": 31,
   "metadata": {},
   "outputs": [
    {
     "data": {
      "text/plain": [
       "0      1.7\n",
       "2      1.8\n",
       "3      2.3\n",
       "4      3.6\n",
       "5      1.7\n",
       "      ... \n",
       "196    1.9\n",
       "197    3.6\n",
       "198      2\n",
       "199    2.5\n",
       "200      2\n",
       "Name: Tasa Fertilidad, Length: 200, dtype: object"
      ]
     },
     "execution_count": 31,
     "metadata": {},
     "output_type": "execute_result"
    }
   ],
   "source": [
    "import pandas as pd\n",
    "import numpy as np\n",
    "#para eliminar filas sin tasa de fertilidad\n",
    "#df.drop([201,202,203,204],axis=0,inplace=True)\n",
    "df.loc[:,\"Tasa Fertilidad\"]"
   ]
  },
  {
   "cell_type": "code",
   "execution_count": 37,
   "metadata": {},
   "outputs": [
    {
     "data": {
      "text/plain": [
       "2.6954999999999996"
      ]
     },
     "execution_count": 37,
     "metadata": {},
     "output_type": "execute_result"
    }
   ],
   "source": [
    "df.loc[:,\"Tasa Fertilidad\"].astype(float).mean()\n",
    "#para convertir la columna de tasa fertilidad de string a float y calcular la media\n",
    "#RESULTADO PRIMERA PREGUNTA\n"
   ]
  },
  {
   "cell_type": "code",
   "execution_count": 60,
   "metadata": {},
   "outputs": [
    {
     "data": {
      "text/html": [
       "<div>\n",
       "<style scoped>\n",
       "    .dataframe tbody tr th:only-of-type {\n",
       "        vertical-align: middle;\n",
       "    }\n",
       "\n",
       "    .dataframe tbody tr th {\n",
       "        vertical-align: top;\n",
       "    }\n",
       "\n",
       "    .dataframe thead th {\n",
       "        text-align: right;\n",
       "    }\n",
       "</style>\n",
       "<table border=\"1\" class=\"dataframe\">\n",
       "  <thead>\n",
       "    <tr style=\"text-align: right;\">\n",
       "      <th></th>\n",
       "      <th>Pais</th>\n",
       "      <th>Poblacion (2020)</th>\n",
       "      <th>Densidad</th>\n",
       "      <th>Territorio (Km²)</th>\n",
       "      <th>Tasa Migracion</th>\n",
       "      <th>Tasa Fertilidad</th>\n",
       "      <th>Edad Promedio</th>\n",
       "      <th>% Poblacion Urbaba</th>\n",
       "    </tr>\n",
       "  </thead>\n",
       "  <tbody>\n",
       "    <tr>\n",
       "      <th>10</th>\n",
       "      <td>Japan</td>\n",
       "      <td>126407422</td>\n",
       "      <td>347</td>\n",
       "      <td>364555</td>\n",
       "      <td>71560.0</td>\n",
       "      <td>1.4</td>\n",
       "      <td>48</td>\n",
       "      <td>92 %</td>\n",
       "    </tr>\n",
       "  </tbody>\n",
       "</table>\n",
       "</div>"
      ],
      "text/plain": [
       "     Pais  Poblacion (2020)  Densidad  Territorio (Km²)  Tasa Migracion  \\\n",
       "10  Japan         126407422       347            364555         71560.0   \n",
       "\n",
       "   Tasa Fertilidad Edad Promedio % Poblacion Urbaba  \n",
       "10             1.4            48               92 %  "
      ]
     },
     "execution_count": 60,
     "metadata": {},
     "output_type": "execute_result"
    }
   ],
   "source": [
    "maximo=df.loc[:,\"Edad Promedio\"].max()\n",
    "\n",
    "is_male = df.loc[:, \"Edad Promedio\"] == maximo\n",
    "df_male = df.loc[is_male]\n",
    "df_male.head()\n",
    "\n",
    "#RESULTADO Nº1 SEGUNDA PREGUNTA"
   ]
  },
  {
   "cell_type": "code",
   "execution_count": 61,
   "metadata": {},
   "outputs": [
    {
     "data": {
      "text/html": [
       "<div>\n",
       "<style scoped>\n",
       "    .dataframe tbody tr th:only-of-type {\n",
       "        vertical-align: middle;\n",
       "    }\n",
       "\n",
       "    .dataframe tbody tr th {\n",
       "        vertical-align: top;\n",
       "    }\n",
       "\n",
       "    .dataframe thead th {\n",
       "        text-align: right;\n",
       "    }\n",
       "</style>\n",
       "<table border=\"1\" class=\"dataframe\">\n",
       "  <thead>\n",
       "    <tr style=\"text-align: right;\">\n",
       "      <th></th>\n",
       "      <th>Pais</th>\n",
       "      <th>Poblacion (2020)</th>\n",
       "      <th>Densidad</th>\n",
       "      <th>Territorio (Km²)</th>\n",
       "      <th>Tasa Migracion</th>\n",
       "      <th>Tasa Fertilidad</th>\n",
       "      <th>Edad Promedio</th>\n",
       "      <th>% Poblacion Urbaba</th>\n",
       "    </tr>\n",
       "  </thead>\n",
       "  <tbody>\n",
       "    <tr>\n",
       "      <th>55</th>\n",
       "      <td>Niger</td>\n",
       "      <td>24346468</td>\n",
       "      <td>19</td>\n",
       "      <td>1266700</td>\n",
       "      <td>4000.0</td>\n",
       "      <td>7</td>\n",
       "      <td>15</td>\n",
       "      <td>17 %</td>\n",
       "    </tr>\n",
       "  </tbody>\n",
       "</table>\n",
       "</div>"
      ],
      "text/plain": [
       "     Pais  Poblacion (2020)  Densidad  Territorio (Km²)  Tasa Migracion  \\\n",
       "55  Niger          24346468        19           1266700          4000.0   \n",
       "\n",
       "   Tasa Fertilidad Edad Promedio % Poblacion Urbaba  \n",
       "55               7            15               17 %  "
      ]
     },
     "execution_count": 61,
     "metadata": {},
     "output_type": "execute_result"
    }
   ],
   "source": [
    "minimo=df.loc[:,\"Edad Promedio\"].min()\n",
    "\n",
    "is_males = df.loc[:, \"Edad Promedio\"] == minimo\n",
    "df_males = df.loc[is_males]\n",
    "df_males.head()\n",
    "\n",
    "#RESULTADO Nº2 SEGUNDA PREGUNTA"
   ]
  },
  {
   "cell_type": "code",
   "execution_count": null,
   "metadata": {},
   "outputs": [],
   "source": []
  }
 ],
 "metadata": {
  "colab": {
   "name": "DatoInteligente_Tarea.ipynb",
   "provenance": []
  },
  "kernelspec": {
   "display_name": "Python 3",
   "language": "python",
   "name": "python3"
  },
  "language_info": {
   "codemirror_mode": {
    "name": "ipython",
    "version": 3
   },
   "file_extension": ".py",
   "mimetype": "text/x-python",
   "name": "python",
   "nbconvert_exporter": "python",
   "pygments_lexer": "ipython3",
   "version": "3.8.8"
  }
 },
 "nbformat": 4,
 "nbformat_minor": 1
}
